{
 "cells": [
  {
   "cell_type": "code",
   "execution_count": 1,
   "id": "c6126895",
   "metadata": {},
   "outputs": [],
   "source": [
    "import numpy as np\n",
    "import pandas as pd\n",
    "import cv2\n",
    "import imutils"
   ]
  },
  {
   "cell_type": "code",
   "execution_count": 2,
   "id": "0dc3599c",
   "metadata": {},
   "outputs": [],
   "source": [
    "camera = cv2.VideoCapture(0)\n",
    "\n",
    "r = g = b = xpos = ypos = 0\n",
    "\n",
    "index = ['color', 'color_name', 'hex', 'R', 'G', 'B']\n",
    "df = pd.read_csv('colors.csv', names = index, header = None)"
   ]
  },
  {
   "cell_type": "code",
   "execution_count": 3,
   "id": "0ae4ae02",
   "metadata": {},
   "outputs": [],
   "source": [
    "def getColorName(R,G,B):\n",
    "    minimum = 10000\n",
    "    for i in range(len(df)):\n",
    "        d = abs(R - int(df.loc[i,\"R\"])) + abs(G - int(df.loc[i,\"G\"])) + abs(B - int(df.loc[i,\"B\"]))\n",
    "        if (d <= minimum):\n",
    "            minimum = d\n",
    "            cname = df.loc[i, 'color_name'] + '   Hex=' + df.loc[i, 'hex']\n",
    "    return cname"
   ]
  },
  {
   "cell_type": "code",
   "execution_count": 4,
   "id": "f908717c",
   "metadata": {},
   "outputs": [],
   "source": [
    "\n",
    "def identify_color(event, x, y, flags, param):\n",
    "    global b, g, r, xpos, ypos, clicked\n",
    "    xpos = x\n",
    "    ypos = y\n",
    "    b, g, r = frame[y,x]\n",
    "    b = int(b)\n",
    "    g = int(g)\n",
    "    r = int(r)"
   ]
  },
  {
   "cell_type": "code",
   "execution_count": 5,
   "id": "c988edc1",
   "metadata": {},
   "outputs": [],
   "source": [
    "\n",
    "cv2.namedWindow('image')\n",
    "cv2.setMouseCallback('image', identify_color)"
   ]
  },
  {
   "cell_type": "code",
   "execution_count": null,
   "id": "fe057c02",
   "metadata": {},
   "outputs": [],
   "source": [
    "\n",
    "while True:\n",
    "    (grabbed, frame) = camera.read()\n",
    "    frame = imutils.resize(frame, width=900)\n",
    "    kernal = np.ones((5, 5), \"uint8\")\n",
    "    cv2.rectangle(frame, (20,20), (800, 60),(b,g,r), -1)    \n",
    "    text = getColorName(b,g,r) + 'R=' + str(r) + ' G=' + str(g) + ' B=' + str(b)\n",
    "   \n",
    "    cv2.putText(frame,text, (50,50),2, 0.8, (255,255,255),2,cv2.LINE_AA)\n",
    "    \n",
    "    if(r+g+b >= 600):\n",
    "        cv2.putText(frame,text,(50,50), 2, 0.8, (0,0,0),2,cv2.LINE_AA)   \n",
    "        \n",
    "    cv2.imshow('image',frame)\n",
    "    \n",
    "    if cv2.waitKey(20) & 0xFF == 27:\n",
    "        break\n",
    "camera.release()\n",
    "cv2.destroyAllWindows()\n"
   ]
  },
  {
   "cell_type": "code",
   "execution_count": null,
   "id": "902dc08d",
   "metadata": {},
   "outputs": [],
   "source": []
  }
 ],
 "metadata": {
  "kernelspec": {
   "display_name": "Python 3 (ipykernel)",
   "language": "python",
   "name": "python3"
  },
  "language_info": {
   "codemirror_mode": {
    "name": "ipython",
    "version": 3
   },
   "file_extension": ".py",
   "mimetype": "text/x-python",
   "name": "python",
   "nbconvert_exporter": "python",
   "pygments_lexer": "ipython3",
   "version": "3.10.2"
  }
 },
 "nbformat": 4,
 "nbformat_minor": 5
}
